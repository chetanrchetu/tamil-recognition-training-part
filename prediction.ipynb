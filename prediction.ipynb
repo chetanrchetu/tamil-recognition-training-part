{
 "cells": [
  {
   "cell_type": "code",
   "execution_count": 1,
   "metadata": {},
   "outputs": [],
   "source": [
    "\n",
    "#importing necessary packages\n",
    "\n",
    "import os\n",
    "import cv2\n",
    "import tensorflow as tf\n",
    "from PIL import Image, ImageOps, ImageFilter\n",
    "import pandas as pd \n",
    "import numpy as np\n",
    "from scipy import ndimage\n",
    "import matplotlib.pyplot as plt"
   ]
  },
  {
   "cell_type": "code",
   "execution_count": 2,
   "metadata": {},
   "outputs": [],
   "source": [
    "# tamil=pd.read_csv(r'D:\\major_project\\megha\\project-1\\TamilNet\\data\\TamilChar.csv')\n",
    "# tamil.head()"
   ]
  },
  {
   "cell_type": "code",
   "execution_count": 3,
   "metadata": {},
   "outputs": [],
   "source": [
    "# unicode_value=list(tamil['Unicode'])"
   ]
  },
  {
   "cell_type": "code",
   "execution_count": 4,
   "metadata": {},
   "outputs": [],
   "source": [
    "# # unicode_values = [\n",
    "# #     '0B85', '0B86', '0B87', '0B88', '0B89', '0B8A', '0B8E', '0B8F', '0B90', '0B92',\n",
    "# #     '0B93', '0B83', '0B95', '0B99', '0B9A', '0B9E', '0B9F', '0BA3', '0BA4', '0BA8',\n",
    "# #     '0BAA', '0BAE', '0BAF', '0BB0', '0BB2', '0BB5', '0BB4', '0BB3', '0BB1', '0BA9',\n",
    "# #     '0BB8', '0BB7', '0B9C', '0BB9', '0B95 0BCD 0BB7', '0B95 0BBF', '0B99 0BBF', '0B9A 0BBF',\n",
    "# #     '0B9E 0BBF', '0B9F 0BBF', '0BA3 0BBF', '0BA4 0BBF', '0BA8 0BBF', '0BAA 0BBF', '0BAE 0BBF',\n",
    "# #     '0BAF 0BBF', '0BB0 0BBF', '0BB2 0BBF', '0BB5 0BBF', '0BB4 0BBF', '0BB3 0BBF', '0BB1 0BBF',\n",
    "# #     '0BA9 0BBF', '0BB8 0BBF', '0BB7 0BBF', '0B95 0BCD 0BB7 0BBF', '0B95 0BC0', '0B99 0BC0',\n",
    "# #     '0B9A 0BC0', '0B9E 0BC0', '0B9F 0BC0', '0BA3 0BC0', '0BA4 0BC0', '0BA8 0BC0', '0BAA 0BC0',\n",
    "# #     '0BAE 0BC0', '0BAF 0BC0', '0BB0 0BC0', '0BB2 0BC0', '0BB5 0BC0', '0BB4 0BC0', '0BB3 0BC0',\n",
    "# #     '0BB1 0BC0', '0BA9 0BC0', '0BB8 0BC0', '0BB7 0BC0', '0B95 0BCD 0BB7 0BC0', '0B95 0BC1',\n",
    "# #     '0B99 0BC1', '0B9A 0BC1', '0B9E 0BC1', '0B9F 0BC1', '0BA3 0BC1', '0BA4 0BC1', '0BA8 0BC1',\n",
    "# #     '0BAA 0BC1', '0BAE 0BC1', '0BAF 0BC1', '0BB0 0BC1', '0BB2 0BC1', '0BB5 0BC1', '0BB4 0BC1',\n",
    "# #     '0BB3 0BC1', '0BB1 0BC1', '0BA9 0BC1', '0B95 0BC2', '0B99 0BC2', '0B9A 0BC2', '0B9E 0BC2',\n",
    "# #     '0B9F 0BC2', '0BA3 0BC2', '0BA4 0BC2', '0BA8 0BC2', '0BAA 0BC2', '0BAE 0BC2', '0BAF 0BC2',\n",
    "# #     '0BB0 0BC2', '0BB2 0BC2', '0BB5 0BC2', '0BB4 0BC2', '0BB3 0BC2', '0BB1 0BC2', '0BA9 0BC2',\n",
    "# #     '0BB8 0BC2', '0BB7 0BC2', '0B9C 0BC2', '0BB9 0BC2', '0B95 0BCD 0BB7 0BC2', '0B94', '0BBE',\n",
    "# #     '0BC6', '0BC7', '0BC8', '0BB8 0BCD 0BB0 0BC0', '0BB8 0BC1', '0BB7 0BC1', '0B9C 0BC1', '0BB9 0BC1',\n",
    "# #     '0B95 0BCD 0BB7 0BC1', '0BB8 0BC2', '0BB7 0BC2', '0B9C 0BC2', '0BB9 0BC2', '0B95 0BCD 0BB7 0BC2',\n",
    "# #     '0B95 0BCD', '0B99 0BCD', '0B9A 0BCD', '0B9E 0BCD', '0B9F 0BCD', '0BA3 0BCD', '0BA4 0BCD',\n",
    "# #     '0BA8 0BCD', '0BAA 0BCD', '0BAE 0BCD', '0BAF 0BCD', '0BB0 0BCD', '0BB2 0BCD', '0BB5 0BCD',\n",
    "# #     '0BB4 0BCD', '0BB3 0BCD', '0BB1 0BCD', '0BA9 0BCD', '0BB8 0BCD', '0BB7 0BCD', '0B9C 0BCD',\n",
    "# #     '0BB9 0BCD', '0B95 0BCD 0BB7 0BCD', '0B94'\n",
    "# # ]\n",
    "\n",
    "# len(unicode_value)"
   ]
  },
  {
   "cell_type": "code",
   "execution_count": null,
   "metadata": {},
   "outputs": [],
   "source": []
  },
  {
   "cell_type": "code",
   "execution_count": 5,
   "metadata": {},
   "outputs": [],
   "source": [
    "# CATEGORIES"
   ]
  },
  {
   "cell_type": "code",
   "execution_count": 6,
   "metadata": {},
   "outputs": [],
   "source": [
    "# for idx,i in enumerate(CATEGORIES):\n",
    "#     if i=='ப்':\n",
    "#         print(idx,i)"
   ]
  },
  {
   "cell_type": "code",
   "execution_count": 7,
   "metadata": {},
   "outputs": [],
   "source": [
    "import cv2\n"
   ]
  },
  {
   "cell_type": "code",
   "execution_count": null,
   "metadata": {},
   "outputs": [],
   "source": [
    "\n"
   ]
  },
  {
   "cell_type": "code",
   "execution_count": 8,
   "metadata": {},
   "outputs": [],
   "source": [
    "# def model_prediction(image_path):\n",
    "#     image=preprocess(image_path)\n",
    "#     plt.imshow(image)\n",
    "#     plt.show()\n",
    "#     image_reshaped=image.reshape(-1,64,64,1)\n",
    "\n",
    "#     intial_prediction=model.predict(image_reshaped)\n",
    "    \n",
    "#     class_=np.argmax(intial_prediction)\n",
    "#     print(class_)\n",
    "#     y_pred=CATEGORIES[class_]\n",
    "#     return y_pred\n",
    "\n"
   ]
  },
  {
   "cell_type": "code",
   "execution_count": 9,
   "metadata": {},
   "outputs": [],
   "source": [
    "# test=pd.read_csv(r'D:\\major_project\\megha\\project-1\\processed\\test\\test_images.csv')\n",
    "# test.sample(5)"
   ]
  },
  {
   "cell_type": "code",
   "execution_count": 10,
   "metadata": {},
   "outputs": [],
   "source": [
    "# test.loc[test['label']==141]"
   ]
  },
  {
   "cell_type": "code",
   "execution_count": 11,
   "metadata": {},
   "outputs": [],
   "source": [
    "# index_range=test.index\n"
   ]
  },
  {
   "cell_type": "code",
   "execution_count": 12,
   "metadata": {},
   "outputs": [],
   "source": [
    "import warnings \n",
    "warnings.filterwarnings('ignore')"
   ]
  },
  {
   "cell_type": "code",
   "execution_count": 13,
   "metadata": {},
   "outputs": [],
   "source": [
    "# index=np.random.randint(index_range[0],index_range[-1])\n",
    "# path=test.iloc[8165][0]\n",
    "# label=test.iloc[8165][1]\n",
    "\n",
    "# y_pred=model_prediction(path)\n",
    "# y_true=CATEGORIES[label]\n",
    "\n",
    "# print(f'Actual value:{y_true}\\nPredicted value:{y_pred}')"
   ]
  },
  {
   "cell_type": "code",
   "execution_count": 14,
   "metadata": {},
   "outputs": [],
   "source": [
    "# PREDICTION_PATH=r'D:\\major_project\\megha\\project-1\\segmented_images'\n",
    "# image_path=[]\n",
    "# for i in os.listdir(PREDICTION_PATH):\n",
    "#     path=os.path.join(PREDICTION_PATH,i)\n",
    "#     image_path.append(path)"
   ]
  },
  {
   "cell_type": "code",
   "execution_count": 15,
   "metadata": {},
   "outputs": [],
   "source": [
    "# image_path"
   ]
  },
  {
   "cell_type": "code",
   "execution_count": 16,
   "metadata": {},
   "outputs": [],
   "source": [
    "# prediction=[]\n",
    "# for i in image_path:\n",
    "#     y_pred=model_prediction(i)\n",
    "#     prediction.append(y_pred)\n",
    "# prediction"
   ]
  },
  {
   "cell_type": "code",
   "execution_count": 17,
   "metadata": {},
   "outputs": [],
   "source": [
    "# string_to_send=''\n",
    "# for i in prediction:\n",
    "#     string_to_send+=i\n",
    "#     print(string_to_send)\n",
    "\n",
    "# string_to_send"
   ]
  },
  {
   "cell_type": "code",
   "execution_count": 18,
   "metadata": {},
   "outputs": [],
   "source": [
    "# if string_to_send!='தம்பி':\n",
    "        \n",
    "#     for i in image_path:\n",
    "#         os.remove(i)"
   ]
  },
  {
   "cell_type": "code",
   "execution_count": 19,
   "metadata": {},
   "outputs": [],
   "source": [
    "# plt.imshow(image)\n",
    "# print(y_pred)"
   ]
  },
  {
   "cell_type": "code",
   "execution_count": 20,
   "metadata": {},
   "outputs": [],
   "source": [
    "model=tf.keras.models.load_model(r'D:\\major_project\\project-1\\model_trained\\Image_model.keras')\n",
    "CATEGORIES=pd.read_csv('Category.csv')\n",
    "CATEGORIES=list(CATEGORIES['Category'])\n",
    "\n",
    "def model_prediction(PREDICTION_PATH):\n",
    "    def preprocess(image_path):\n",
    "\n",
    "        numpy_img=cv2.imread(image_path)\n",
    "        # Convert NumPy array to PIL image\n",
    "        img = Image.fromarray(numpy_img)\n",
    "\n",
    "        # Convert to grayscale\n",
    "        converted = img.convert(\"L\")\n",
    "\n",
    "        # Invert colors\n",
    "        inverted = ImageOps.invert(converted)\n",
    "        thick=inverted\n",
    "\n",
    "        # # Apply maximum filter\n",
    "        thick = inverted.filter(ImageFilter.MaxFilter(5))\n",
    "\n",
    "        # Calculate resizing ratio (adjusting for smaller size)\n",
    "        ratio = 32.0 / max(thick.size)\n",
    "\n",
    "        # Resize image\n",
    "        new_size = tuple([int(round(x*ratio)) for x in thick.size])\n",
    "        res = thick.resize(new_size, Image.LANCZOS)\n",
    "        \n",
    "        # Convert resized image back to NumPy array\n",
    "        arr = np.asarray(res)\n",
    "\n",
    "        # Calculate center of mass\n",
    "        com = ndimage.center_of_mass(arr)\n",
    "\n",
    "        # Create blank image\n",
    "        result = np.zeros((64, 64), dtype=np.uint8)\n",
    "\n",
    "        # Calculate paste box coordinates\n",
    "        box = (int(round(32.0 - com[1])), int(round(32.0 - com[0])))\n",
    "\n",
    "        # Paste resized image onto blank image\n",
    "        result[box[1]:box[1]+arr.shape[0], box[0]:box[0]+arr.shape[1]] = arr\n",
    "\n",
    "        return result\n",
    "    def model_prediction(image_path):\n",
    "        image=preprocess(image_path)\n",
    "        \n",
    "        image_reshaped=image.reshape(-1,64,64,1)\n",
    "\n",
    "        intial_prediction=model.predict(image_reshaped,verbose=0)\n",
    "        \n",
    "        class_=np.argmax(intial_prediction)\n",
    "        \n",
    "        y_pred=CATEGORIES[class_]\n",
    "        return y_pred\n",
    "    \n",
    "    \n",
    "    image_path=[]\n",
    "    for i in os.listdir(PREDICTION_PATH):\n",
    "        path=os.path.join(PREDICTION_PATH,i)\n",
    "        image_path.append(path)\n",
    "\n",
    "    prediction=[]\n",
    "    for i in image_path:\n",
    "        y_pred=model_prediction(i)\n",
    "        prediction.append(y_pred)\n",
    "    prediction\n",
    "\n",
    "    string_to_send=''\n",
    "    for i in prediction:\n",
    "        string_to_send+=i\n",
    "        \n",
    "\n",
    "    return string_to_send\n",
    "\n",
    "\n",
    "\n"
   ]
  },
  {
   "cell_type": "code",
   "execution_count": 21,
   "metadata": {},
   "outputs": [],
   "source": [
    "# from translate import translate_tamil\n",
    "# string_to_send=model_prediction(r'D:\\major_project\\megha\\project-1\\segmented_images')\n",
    "# print(string_to_send)\n",
    "# translate_tamil(string_to_send)"
   ]
  },
  {
   "cell_type": "code",
   "execution_count": null,
   "metadata": {},
   "outputs": [],
   "source": []
  },
  {
   "cell_type": "code",
   "execution_count": 1,
   "metadata": {},
   "outputs": [],
   "source": [
    "import win32com.client \n",
    "speaker=win32com.client.Dispatch(\"SAPI.SpVoice\")\n",
    "\n",
    "\n"
   ]
  },
  {
   "cell_type": "code",
   "execution_count": 43,
   "metadata": {},
   "outputs": [
    {
     "name": "stdout",
     "output_type": "stream",
     "text": [
      "Tamil text :நல்ல\n",
      "English text: good\n"
     ]
    },
    {
     "data": {
      "text/plain": [
       "1"
      ]
     },
     "execution_count": 43,
     "metadata": {},
     "output_type": "execute_result"
    }
   ],
   "source": [
    "from full_pipeline import predict_\n",
    "y_pred,y=predict_(r'D:\\major_project\\project-1\\good.png')\n",
    "print(f'Tamil text :{y}\\nEnglish text: {y_pred}')\n",
    "speaker.Speak(y_pred)"
   ]
  },
  {
   "cell_type": "code",
   "execution_count": 19,
   "metadata": {},
   "outputs": [],
   "source": [
    "import pandas as pd\n",
    "categories=pd.read_csv(r'D:\\major_project\\project-1\\Category.csv')\n",
    "categories=list(categories['Category'])"
   ]
  },
  {
   "cell_type": "code",
   "execution_count": 38,
   "metadata": {},
   "outputs": [
    {
     "name": "stdout",
     "output_type": "stream",
     "text": [
      "144 ல்\n"
     ]
    }
   ],
   "source": [
    "for idx,i in enumerate(categories):\n",
    "    if i=='ல்':\n",
    "        print(idx,i)"
   ]
  },
  {
   "cell_type": "code",
   "execution_count": null,
   "metadata": {},
   "outputs": [],
   "source": []
  }
 ],
 "metadata": {
  "kernelspec": {
   "display_name": "pythonprojects",
   "language": "python",
   "name": "python3"
  },
  "language_info": {
   "codemirror_mode": {
    "name": "ipython",
    "version": 3
   },
   "file_extension": ".py",
   "mimetype": "text/x-python",
   "name": "python",
   "nbconvert_exporter": "python",
   "pygments_lexer": "ipython3",
   "version": "3.11.4"
  }
 },
 "nbformat": 4,
 "nbformat_minor": 2
}
